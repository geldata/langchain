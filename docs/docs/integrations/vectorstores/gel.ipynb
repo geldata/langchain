{
 "cells": [
  {
   "cell_type": "markdown",
   "id": "7679dd7b-7ed4-4755-a499-824deadba708",
   "metadata": {},
   "source": [
    "# Gel \n",
    "\n",
    "> An implementation of LangChain vectorstore abstraction using `gel` as the backend.\n",
    "\n",
    "The code lives in an integration package called: [langchain_gel](https://github.com/geldata/langchain-gel).\n",
    "\n",
    "## Setup\n",
    "\n",
    "First install the package:"
   ]
  },
  {
   "cell_type": "code",
   "execution_count": null,
   "id": "92df32f0",
   "metadata": {},
   "outputs": [],
   "source": [
    "! pip install -qU gel langchain-gel "
   ]
  },
  {
   "cell_type": "code",
   "execution_count": null,
   "id": "b79938d3",
   "metadata": {},
   "outputs": [],
   "source": [
    "! gel project init --non-interactive"
   ]
  },
  {
   "cell_type": "markdown",
   "id": "08e79230",
   "metadata": {},
   "source": [
    "```bash\n",
    "gel project init --server-instance <org-name>/<instance-name>\n",
    "```"
   ]
  },
  {
   "cell_type": "code",
   "execution_count": 14,
   "id": "9a7edd58",
   "metadata": {},
   "outputs": [],
   "source": [
    "schema_content = \"\"\"using extension pgvector;\n",
    "                                    \n",
    "module default {\n",
    "    scalar type EmbeddingVector extending ext::pgvector::vector<1536>;\n",
    "\n",
    "    type Record {\n",
    "        required collection: str;\n",
    "        text: str;\n",
    "        embedding: EmbeddingVector; \n",
    "        external_id: str {\n",
    "            constraint exclusive;\n",
    "        };\n",
    "        metadata: json;\n",
    "\n",
    "        index ext::pgvector::hnsw_cosine(m := 16, ef_construction := 128)\n",
    "            on (.embedding)\n",
    "    } \n",
    "}\"\"\"\n",
    "\n",
    "with open(\"dbschema/default.gel\", \"w\") as f:\n",
    "    f.write(schema_content)"
   ]
  },
  {
   "cell_type": "code",
   "execution_count": null,
   "id": "cdff483e",
   "metadata": {},
   "outputs": [],
   "source": [
    "! gel migration create --non-interactive\n",
    "! gel migrate"
   ]
  },
  {
   "cell_type": "markdown",
   "id": "ec44dfcc",
   "metadata": {},
   "source": [
    "## Instantiation\n",
    "\n",
    "import EmbeddingTabs from \"@theme/EmbeddingTabs\";\n",
    "\n",
    "<EmbeddingTabs/>\n"
   ]
  },
  {
   "cell_type": "code",
   "execution_count": 2,
   "id": "94f5c129",
   "metadata": {},
   "outputs": [],
   "source": [
    "# | output: false\n",
    "# | echo: false\n",
    "from langchain_openai import OpenAIEmbeddings\n",
    "\n",
    "embeddings = OpenAIEmbeddings(model=\"text-embedding-3-small\")"
   ]
  },
  {
   "cell_type": "code",
   "execution_count": 3,
   "id": "979a65bd-742f-4b0d-be1e-c0baae245ec6",
   "metadata": {
    "tags": []
   },
   "outputs": [],
   "source": [
    "from langchain_gel import GelVectorStore\n",
    "\n",
    "\n",
    "vector_store = GelVectorStore(\n",
    "    embeddings=embeddings,\n",
    ")"
   ]
  },
  {
   "cell_type": "markdown",
   "id": "61a224a1-d70b-4daf-86ba-ab6e43c08b50",
   "metadata": {},
   "source": [
    "## Manage vector store\n",
    "\n",
    "### Add items to vector store\n",
    "\n",
    "Note that adding documents by ID will over-write any existing documents that match that ID."
   ]
  },
  {
   "cell_type": "code",
   "execution_count": 4,
   "id": "88a288cc-ffd4-4800-b011-750c72b9fd10",
   "metadata": {
    "tags": []
   },
   "outputs": [
    {
     "data": {
      "text/plain": [
       "['1', '2', '3', '4', '5', '6', '7', '8', '9', '10']"
      ]
     },
     "execution_count": 4,
     "metadata": {},
     "output_type": "execute_result"
    }
   ],
   "source": [
    "from langchain_core.documents import Document\n",
    "\n",
    "docs = [\n",
    "    Document(\n",
    "        page_content=\"there are cats in the pond\",\n",
    "        metadata={\"id\": \"1\", \"location\": \"pond\", \"topic\": \"animals\"},\n",
    "    ),\n",
    "    Document(\n",
    "        page_content=\"ducks are also found in the pond\",\n",
    "        metadata={\"id\": \"2\", \"location\": \"pond\", \"topic\": \"animals\"},\n",
    "    ),\n",
    "    Document(\n",
    "        page_content=\"fresh apples are available at the market\",\n",
    "        metadata={\"id\": \"3\", \"location\": \"market\", \"topic\": \"food\"},\n",
    "    ),\n",
    "    Document(\n",
    "        page_content=\"the market also sells fresh oranges\",\n",
    "        metadata={\"id\": \"4\", \"location\": \"market\", \"topic\": \"food\"},\n",
    "    ),\n",
    "    Document(\n",
    "        page_content=\"the new art exhibit is fascinating\",\n",
    "        metadata={\"id\": \"5\", \"location\": \"museum\", \"topic\": \"art\"},\n",
    "    ),\n",
    "    Document(\n",
    "        page_content=\"a sculpture exhibit is also at the museum\",\n",
    "        metadata={\"id\": \"6\", \"location\": \"museum\", \"topic\": \"art\"},\n",
    "    ),\n",
    "    Document(\n",
    "        page_content=\"a new coffee shop opened on Main Street\",\n",
    "        metadata={\"id\": \"7\", \"location\": \"Main Street\", \"topic\": \"food\"},\n",
    "    ),\n",
    "    Document(\n",
    "        page_content=\"the book club meets at the library\",\n",
    "        metadata={\"id\": \"8\", \"location\": \"library\", \"topic\": \"reading\"},\n",
    "    ),\n",
    "    Document(\n",
    "        page_content=\"the library hosts a weekly story time for kids\",\n",
    "        metadata={\"id\": \"9\", \"location\": \"library\", \"topic\": \"reading\"},\n",
    "    ),\n",
    "    Document(\n",
    "        page_content=\"a cooking class for beginners is offered at the community center\",\n",
    "        metadata={\"id\": \"10\", \"location\": \"community center\", \"topic\": \"classes\"},\n",
    "    ),\n",
    "]\n",
    "\n",
    "vector_store.add_documents(docs, ids=[doc.metadata[\"id\"] for doc in docs])"
   ]
  },
  {
   "cell_type": "markdown",
   "id": "0c712fa3",
   "metadata": {},
   "source": [
    "### Delete items from vector store"
   ]
  },
  {
   "cell_type": "code",
   "execution_count": 5,
   "id": "a5b2b71f-49eb-407d-b03a-dea4c0a517d6",
   "metadata": {
    "tags": []
   },
   "outputs": [],
   "source": [
    "vector_store.delete(ids=[\"3\"])"
   ]
  },
  {
   "cell_type": "markdown",
   "id": "59f82250-7903-4279-8300-062542c83416",
   "metadata": {},
   "source": [
    "## Query vector store\n",
    "\n",
    "Once your vector store has been created and the relevant documents have been added you will most likely wish to query it during the running of your chain or agent. \n",
    "\n",
    "### Filtering Support\n",
    "\n",
    "The vectorstore supports a set of filters that can be applied against the metadata fields of the documents.\n",
    "\n",
    "| Operator | Meaning/Category        |\n",
    "|----------|-------------------------|\n",
    "| \\$eq      | Equality (==)           |\n",
    "| \\$ne      | Inequality (!=)         |\n",
    "| \\$lt      | Less than (&lt;)           |\n",
    "| \\$lte     | Less than or equal (&lt;=) |\n",
    "| \\$gt      | Greater than (>)        |\n",
    "| \\$gte     | Greater than or equal (>=) |\n",
    "| \\$in      | Special Cased (in)      |\n",
    "| \\$nin     | Special Cased (not in)  |\n",
    "| \\$between | Special Cased (between) |\n",
    "| \\$like    | Text (like)             |\n",
    "| \\$ilike   | Text (case-insensitive like) |\n",
    "| \\$and     | Logical (and)           |\n",
    "| \\$or      | Logical (or)            |\n",
    "\n",
    "### Query directly\n",
    "\n",
    "Performing a simple similarity search can be done as follows:"
   ]
  },
  {
   "cell_type": "code",
   "execution_count": 6,
   "id": "f15a2359-6dc3-4099-8214-785f167a9ca4",
   "metadata": {
    "tags": []
   },
   "outputs": [
    {
     "name": "stdout",
     "output_type": "stream",
     "text": [
      "* there are cats in the pond [{'id': '1', 'topic': 'animals', 'location': 'pond'}]\n",
      "* ducks are also found in the pond [{'id': '2', 'topic': 'animals', 'location': 'pond'}]\n",
      "* the new art exhibit is fascinating [{'id': '5', 'topic': 'art', 'location': 'museum'}]\n",
      "* the library hosts a weekly story time for kids [{'id': '9', 'topic': 'reading', 'location': 'library'}]\n"
     ]
    }
   ],
   "source": [
    "results = vector_store.similarity_search(\n",
    "    \"kitty\", k=10, filter={\"id\": {\"$in\": [\"1\", \"5\", \"2\", \"9\"]}}\n",
    ")\n",
    "for doc in results:\n",
    "    print(f\"* {doc.page_content} [{doc.metadata}]\")"
   ]
  },
  {
   "cell_type": "markdown",
   "id": "d92ea049-1b1f-4ae9-9525-35750fe2e52e",
   "metadata": {},
   "source": [
    "If you provide a dict with multiple fields, but no operators, the top level will be interpreted as a logical **AND** filter"
   ]
  },
  {
   "cell_type": "code",
   "execution_count": 7,
   "id": "88f919e4-e4b0-4b5f-99b3-24c675c26d33",
   "metadata": {
    "tags": []
   },
   "outputs": [
    {
     "data": {
      "text/plain": [
       "[Document(id='2', metadata={'id': '2', 'topic': 'animals', 'location': 'pond'}, page_content='ducks are also found in the pond'),\n",
       " Document(id='1', metadata={'id': '1', 'topic': 'animals', 'location': 'pond'}, page_content='there are cats in the pond')]"
      ]
     },
     "execution_count": 7,
     "metadata": {},
     "output_type": "execute_result"
    }
   ],
   "source": [
    "vector_store.similarity_search(\n",
    "    \"ducks\",\n",
    "    k=10,\n",
    "    filter={\"id\": {\"$in\": [\"1\", \"5\", \"2\", \"9\"]}, \"location\": {\"$in\": [\"pond\", \"market\"]}},\n",
    ")"
   ]
  },
  {
   "cell_type": "code",
   "execution_count": 8,
   "id": "88f423a4-6575-4fb8-9be2-a3da01106591",
   "metadata": {
    "tags": []
   },
   "outputs": [
    {
     "data": {
      "text/plain": [
       "[Document(id='2', metadata={'id': '2', 'topic': 'animals', 'location': 'pond'}, page_content='ducks are also found in the pond'),\n",
       " Document(id='1', metadata={'id': '1', 'topic': 'animals', 'location': 'pond'}, page_content='there are cats in the pond')]"
      ]
     },
     "execution_count": 8,
     "metadata": {},
     "output_type": "execute_result"
    }
   ],
   "source": [
    "vector_store.similarity_search(\n",
    "    \"ducks\",\n",
    "    k=10,\n",
    "    filter={\n",
    "        \"$and\": [\n",
    "            {\"id\": {\"$in\": [\"1\", \"5\", \"2\", \"9\"]}},\n",
    "            {\"location\": {\"$in\": [\"pond\", \"market\"]}},\n",
    "        ]\n",
    "    },\n",
    ")"
   ]
  },
  {
   "cell_type": "markdown",
   "id": "2e65adc1",
   "metadata": {},
   "source": [
    "If you want to execute a similarity search and receive the corresponding scores you can run:"
   ]
  },
  {
   "cell_type": "code",
   "execution_count": 9,
   "id": "7d92e7b3",
   "metadata": {},
   "outputs": [
    {
     "name": "stdout",
     "output_type": "stream",
     "text": [
      "* [SIM=0.471662] there are cats in the pond [{'id': '1', 'topic': 'animals', 'location': 'pond'}]\n"
     ]
    }
   ],
   "source": [
    "results = vector_store.similarity_search_with_score(query=\"cats\", k=1)\n",
    "for doc, score in results:\n",
    "    print(f\"* [SIM={score:3f}] {doc.page_content} [{doc.metadata}]\")"
   ]
  },
  {
   "cell_type": "markdown",
   "id": "8d40db8c",
   "metadata": {},
   "source": [
    "For a full list of the different searches you can execute on a `PGVector` vector store, please refer to the [API reference](https://python.langchain.com/api_reference/postgres/vectorstores/langchain_postgres.vectorstores.PGVector.html).\n",
    "\n",
    "### Query by turning into retriever\n",
    "\n",
    "You can also transform the vector store into a retriever for easier usage in your chains. "
   ]
  },
  {
   "cell_type": "code",
   "execution_count": 10,
   "id": "7cd1fb75",
   "metadata": {},
   "outputs": [
    {
     "data": {
      "text/plain": [
       "[Document(id='1', metadata={'id': '1', 'topic': 'animals', 'location': 'pond'}, page_content='there are cats in the pond')]"
      ]
     },
     "execution_count": 10,
     "metadata": {},
     "output_type": "execute_result"
    }
   ],
   "source": [
    "retriever = vector_store.as_retriever(search_kwargs={\"k\": 1})\n",
    "retriever.invoke(\"kitty\")"
   ]
  },
  {
   "cell_type": "markdown",
   "id": "7ecd77a0",
   "metadata": {},
   "source": [
    "## Usage for retrieval-augmented generation\n",
    "\n",
    "For guides on how to use this vector store for retrieval-augmented generation (RAG), see the following sections:\n",
    "\n",
    "- [Tutorials](/docs/tutorials/)\n",
    "- [How-to: Question and answer with RAG](https://python.langchain.com/docs/how_to/#qa-with-rag)\n",
    "- [Retrieval conceptual docs](https://python.langchain.com/docs/concepts/retrieval)"
   ]
  }
 ],
 "metadata": {
  "kernelspec": {
   "display_name": ".venv",
   "language": "python",
   "name": "python3"
  },
  "language_info": {
   "codemirror_mode": {
    "name": "ipython",
    "version": 3
   },
   "file_extension": ".py",
   "mimetype": "text/x-python",
   "name": "python",
   "nbconvert_exporter": "python",
   "pygments_lexer": "ipython3",
   "version": "3.13.2"
  }
 },
 "nbformat": 4,
 "nbformat_minor": 5
}
